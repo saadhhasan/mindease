{
  "cells": [
    {
      "cell_type": "markdown",
      "metadata": {
        "id": "--jron0riJNr"
      },
      "source": [
        "***Hugging Face Login***"
      ]
    },
    {
      "cell_type": "code",
      "execution_count": null,
      "metadata": {
        "colab": {
          "base_uri": "https://localhost:8080/"
        },
        "id": "OFeCuc2f6tMr",
        "outputId": "ef1f7ad9-5c25-4ea4-d5ef-48ecce6705c5"
      },
      "outputs": [
        {
          "name": "stdout",
          "output_type": "stream",
          "text": [
            "Drive already mounted at /content/drive; to attempt to forcibly remount, call drive.mount(\"/content/drive\", force_remount=True).\n"
          ]
        }
      ],
      "source": [
        "from google.colab import drive\n",
        "drive.mount('/content/drive')"
      ]
    },
    {
      "cell_type": "code",
      "execution_count": null,
      "metadata": {
        "id": "ISeS-z0LiIYw"
      },
      "outputs": [],
      "source": [
        "from huggingface_hub import login\n",
        "\n",
        "# Log in with your Hugging Face token (get it from https://huggingface.co/settings/tokens)\n",
        "login(token=\"\")\n"
      ]
    },
    {
      "cell_type": "markdown",
      "metadata": {
        "id": "CjdG8YceiCtj"
      },
      "source": [
        "***Installing dependencies***"
      ]
    },
    {
      "cell_type": "code",
      "execution_count": null,
      "metadata": {
        "colab": {
          "base_uri": "https://localhost:8080/"
        },
        "id": "a5SglJCKbxfJ",
        "outputId": "c620c8a4-318b-49c1-829c-84dc8c973ebc"
      },
      "outputs": [
        {
          "name": "stdout",
          "output_type": "stream",
          "text": [
            "Requirement already satisfied: langchain==0.3.3 in /usr/local/lib/python3.10/dist-packages (from -r requirement.txt (line 1)) (0.3.3)\n",
            "Requirement already satisfied: langchain-community==0.3.2 in /usr/local/lib/python3.10/dist-packages (from -r requirement.txt (line 2)) (0.3.2)\n",
            "Requirement already satisfied: langchain-openai==0.2.2 in /usr/local/lib/python3.10/dist-packages (from -r requirement.txt (line 3)) (0.2.2)\n",
            "Requirement already satisfied: PyPDF2==3.0.1 in /usr/local/lib/python3.10/dist-packages (from -r requirement.txt (line 4)) (3.0.1)\n",
            "Requirement already satisfied: python-dotenv==1.0.1 in /usr/local/lib/python3.10/dist-packages (from -r requirement.txt (line 5)) (1.0.1)\n",
            "Requirement already satisfied: streamlit==1.38.0 in /usr/local/lib/python3.10/dist-packages (from -r requirement.txt (line 6)) (1.38.0)\n",
            "Requirement already satisfied: faiss-cpu==1.8.0.post1 in /usr/local/lib/python3.10/dist-packages (from -r requirement.txt (line 7)) (1.8.0.post1)\n",
            "Requirement already satisfied: streamlit-extras==0.4.7 in /usr/local/lib/python3.10/dist-packages (from -r requirement.txt (line 8)) (0.4.7)\n",
            "Requirement already satisfied: transformers==4.44.2 in /usr/local/lib/python3.10/dist-packages (from -r requirement.txt (line 9)) (4.44.2)\n",
            "Requirement already satisfied: torch==2.5.1 in /usr/local/lib/python3.10/dist-packages (from -r requirement.txt (line 10)) (2.5.1+cu121)\n",
            "Requirement already satisfied: langchain-huggingface==0.1.0 in /usr/local/lib/python3.10/dist-packages (from -r requirement.txt (line 11)) (0.1.0)\n",
            "Requirement already satisfied: langchain-core==0.3.10 in /usr/local/lib/python3.10/dist-packages (from -r requirement.txt (line 12)) (0.3.10)\n",
            "Requirement already satisfied: PyYAML>=5.3 in /usr/local/lib/python3.10/dist-packages (from langchain==0.3.3->-r requirement.txt (line 1)) (6.0.2)\n",
            "Requirement already satisfied: SQLAlchemy<3,>=1.4 in /usr/local/lib/python3.10/dist-packages (from langchain==0.3.3->-r requirement.txt (line 1)) (2.0.36)\n",
            "Requirement already satisfied: aiohttp<4.0.0,>=3.8.3 in /usr/local/lib/python3.10/dist-packages (from langchain==0.3.3->-r requirement.txt (line 1)) (3.11.10)\n",
            "Requirement already satisfied: async-timeout<5.0.0,>=4.0.0 in /usr/local/lib/python3.10/dist-packages (from langchain==0.3.3->-r requirement.txt (line 1)) (4.0.3)\n",
            "Requirement already satisfied: langchain-text-splitters<0.4.0,>=0.3.0 in /usr/local/lib/python3.10/dist-packages (from langchain==0.3.3->-r requirement.txt (line 1)) (0.3.0)\n",
            "Requirement already satisfied: langsmith<0.2.0,>=0.1.17 in /usr/local/lib/python3.10/dist-packages (from langchain==0.3.3->-r requirement.txt (line 1)) (0.1.147)\n",
            "Requirement already satisfied: numpy<2,>=1 in /usr/local/lib/python3.10/dist-packages (from langchain==0.3.3->-r requirement.txt (line 1)) (1.26.4)\n",
            "Requirement already satisfied: pydantic<3.0.0,>=2.7.4 in /usr/local/lib/python3.10/dist-packages (from langchain==0.3.3->-r requirement.txt (line 1)) (2.10.3)\n",
            "Requirement already satisfied: requests<3,>=2 in /usr/local/lib/python3.10/dist-packages (from langchain==0.3.3->-r requirement.txt (line 1)) (2.32.3)\n",
            "Requirement already satisfied: tenacity!=8.4.0,<9.0.0,>=8.1.0 in /usr/local/lib/python3.10/dist-packages (from langchain==0.3.3->-r requirement.txt (line 1)) (8.5.0)\n",
            "Requirement already satisfied: dataclasses-json<0.7,>=0.5.7 in /usr/local/lib/python3.10/dist-packages (from langchain-community==0.3.2->-r requirement.txt (line 2)) (0.6.7)\n",
            "Requirement already satisfied: pydantic-settings<3.0.0,>=2.4.0 in /usr/local/lib/python3.10/dist-packages (from langchain-community==0.3.2->-r requirement.txt (line 2)) (2.7.0)\n",
            "Requirement already satisfied: openai<2.0.0,>=1.40.0 in /usr/local/lib/python3.10/dist-packages (from langchain-openai==0.2.2->-r requirement.txt (line 3)) (1.54.5)\n",
            "Requirement already satisfied: tiktoken<1,>=0.7 in /usr/local/lib/python3.10/dist-packages (from langchain-openai==0.2.2->-r requirement.txt (line 3)) (0.8.0)\n",
            "Requirement already satisfied: altair<6,>=4.0 in /usr/local/lib/python3.10/dist-packages (from streamlit==1.38.0->-r requirement.txt (line 6)) (5.5.0)\n",
            "Requirement already satisfied: blinker<2,>=1.0.0 in /usr/local/lib/python3.10/dist-packages (from streamlit==1.38.0->-r requirement.txt (line 6)) (1.9.0)\n",
            "Requirement already satisfied: cachetools<6,>=4.0 in /usr/local/lib/python3.10/dist-packages (from streamlit==1.38.0->-r requirement.txt (line 6)) (5.5.0)\n",
            "Requirement already satisfied: click<9,>=7.0 in /usr/local/lib/python3.10/dist-packages (from streamlit==1.38.0->-r requirement.txt (line 6)) (8.1.7)\n",
            "Requirement already satisfied: packaging<25,>=20 in /usr/local/lib/python3.10/dist-packages (from streamlit==1.38.0->-r requirement.txt (line 6)) (24.2)\n",
            "Requirement already satisfied: pandas<3,>=1.3.0 in /usr/local/lib/python3.10/dist-packages (from streamlit==1.38.0->-r requirement.txt (line 6)) (2.2.2)\n",
            "Requirement already satisfied: pillow<11,>=7.1.0 in /usr/local/lib/python3.10/dist-packages (from streamlit==1.38.0->-r requirement.txt (line 6)) (10.4.0)\n",
            "Requirement already satisfied: protobuf<6,>=3.20 in /usr/local/lib/python3.10/dist-packages (from streamlit==1.38.0->-r requirement.txt (line 6)) (4.25.5)\n",
            "Requirement already satisfied: pyarrow>=7.0 in /usr/local/lib/python3.10/dist-packages (from streamlit==1.38.0->-r requirement.txt (line 6)) (17.0.0)\n",
            "Requirement already satisfied: rich<14,>=10.14.0 in /usr/local/lib/python3.10/dist-packages (from streamlit==1.38.0->-r requirement.txt (line 6)) (13.9.4)\n",
            "Requirement already satisfied: toml<2,>=0.10.1 in /usr/local/lib/python3.10/dist-packages (from streamlit==1.38.0->-r requirement.txt (line 6)) (0.10.2)\n",
            "Requirement already satisfied: typing-extensions<5,>=4.3.0 in /usr/local/lib/python3.10/dist-packages (from streamlit==1.38.0->-r requirement.txt (line 6)) (4.12.2)\n",
            "Requirement already satisfied: gitpython!=3.1.19,<4,>=3.0.7 in /usr/local/lib/python3.10/dist-packages (from streamlit==1.38.0->-r requirement.txt (line 6)) (3.1.43)\n",
            "Requirement already satisfied: pydeck<1,>=0.8.0b4 in /usr/local/lib/python3.10/dist-packages (from streamlit==1.38.0->-r requirement.txt (line 6)) (0.9.1)\n",
            "Requirement already satisfied: tornado<7,>=6.0.3 in /usr/local/lib/python3.10/dist-packages (from streamlit==1.38.0->-r requirement.txt (line 6)) (6.3.3)\n",
            "Requirement already satisfied: watchdog<5,>=2.1.5 in /usr/local/lib/python3.10/dist-packages (from streamlit==1.38.0->-r requirement.txt (line 6)) (4.0.2)\n",
            "Requirement already satisfied: entrypoints>=0.4 in /usr/local/lib/python3.10/dist-packages (from streamlit-extras==0.4.7->-r requirement.txt (line 8)) (0.4)\n",
            "Requirement already satisfied: htbuilder>=0.6.2 in /usr/local/lib/python3.10/dist-packages (from streamlit-extras==0.4.7->-r requirement.txt (line 8)) (0.7.0)\n",
            "Requirement already satisfied: markdownlit>=0.0.5 in /usr/local/lib/python3.10/dist-packages (from streamlit-extras==0.4.7->-r requirement.txt (line 8)) (0.0.7)\n",
            "Requirement already satisfied: plotly>=1.0.0 in /usr/local/lib/python3.10/dist-packages (from streamlit-extras==0.4.7->-r requirement.txt (line 8)) (5.24.1)\n",
            "Requirement already satisfied: prometheus-client>=0.14.0 in /usr/local/lib/python3.10/dist-packages (from streamlit-extras==0.4.7->-r requirement.txt (line 8)) (0.21.1)\n",
            "Requirement already satisfied: st-annotated-text>=3.0.0 in /usr/local/lib/python3.10/dist-packages (from streamlit-extras==0.4.7->-r requirement.txt (line 8)) (4.0.1)\n",
            "Requirement already satisfied: st-theme>=1.0.1 in /usr/local/lib/python3.10/dist-packages (from streamlit-extras==0.4.7->-r requirement.txt (line 8)) (1.2.3)\n",
            "Requirement already satisfied: streamlit-camera-input-live>=0.2.0 in /usr/local/lib/python3.10/dist-packages (from streamlit-extras==0.4.7->-r requirement.txt (line 8)) (0.2.0)\n",
            "Requirement already satisfied: streamlit-card>=0.0.4 in /usr/local/lib/python3.10/dist-packages (from streamlit-extras==0.4.7->-r requirement.txt (line 8)) (1.0.2)\n",
            "Requirement already satisfied: streamlit-embedcode>=0.1.2 in /usr/local/lib/python3.10/dist-packages (from streamlit-extras==0.4.7->-r requirement.txt (line 8)) (0.1.2)\n",
            "Requirement already satisfied: streamlit-faker>=0.0.2 in /usr/local/lib/python3.10/dist-packages (from streamlit-extras==0.4.7->-r requirement.txt (line 8)) (0.0.3)\n",
            "Requirement already satisfied: streamlit-image-coordinates<0.2.0,>=0.1.1 in /usr/local/lib/python3.10/dist-packages (from streamlit-extras==0.4.7->-r requirement.txt (line 8)) (0.1.9)\n",
            "Requirement already satisfied: streamlit-keyup>=0.1.9 in /usr/local/lib/python3.10/dist-packages (from streamlit-extras==0.4.7->-r requirement.txt (line 8)) (0.2.4)\n",
            "Requirement already satisfied: streamlit-toggle-switch>=1.0.2 in /usr/local/lib/python3.10/dist-packages (from streamlit-extras==0.4.7->-r requirement.txt (line 8)) (1.0.2)\n",
            "Requirement already satisfied: streamlit-vertical-slider>=2.5.5 in /usr/local/lib/python3.10/dist-packages (from streamlit-extras==0.4.7->-r requirement.txt (line 8)) (2.5.5)\n",
            "Requirement already satisfied: validators>=0.20.0 in /usr/local/lib/python3.10/dist-packages (from streamlit-extras==0.4.7->-r requirement.txt (line 8)) (0.34.0)\n",
            "Requirement already satisfied: filelock in /usr/local/lib/python3.10/dist-packages (from transformers==4.44.2->-r requirement.txt (line 9)) (3.16.1)\n",
            "Requirement already satisfied: huggingface-hub<1.0,>=0.23.2 in /usr/local/lib/python3.10/dist-packages (from transformers==4.44.2->-r requirement.txt (line 9)) (0.26.5)\n",
            "Requirement already satisfied: regex!=2019.12.17 in /usr/local/lib/python3.10/dist-packages (from transformers==4.44.2->-r requirement.txt (line 9)) (2024.9.11)\n",
            "Requirement already satisfied: safetensors>=0.4.1 in /usr/local/lib/python3.10/dist-packages (from transformers==4.44.2->-r requirement.txt (line 9)) (0.4.5)\n",
            "Requirement already satisfied: tokenizers<0.20,>=0.19 in /usr/local/lib/python3.10/dist-packages (from transformers==4.44.2->-r requirement.txt (line 9)) (0.19.1)\n",
            "Requirement already satisfied: tqdm>=4.27 in /usr/local/lib/python3.10/dist-packages (from transformers==4.44.2->-r requirement.txt (line 9)) (4.66.6)\n",
            "Requirement already satisfied: networkx in /usr/local/lib/python3.10/dist-packages (from torch==2.5.1->-r requirement.txt (line 10)) (3.4.2)\n",
            "Requirement already satisfied: jinja2 in /usr/local/lib/python3.10/dist-packages (from torch==2.5.1->-r requirement.txt (line 10)) (3.1.4)\n",
            "Requirement already satisfied: fsspec in /usr/local/lib/python3.10/dist-packages (from torch==2.5.1->-r requirement.txt (line 10)) (2024.10.0)\n",
            "Requirement already satisfied: sympy==1.13.1 in /usr/local/lib/python3.10/dist-packages (from torch==2.5.1->-r requirement.txt (line 10)) (1.13.1)\n",
            "Requirement already satisfied: sentence-transformers>=2.6.0 in /usr/local/lib/python3.10/dist-packages (from langchain-huggingface==0.1.0->-r requirement.txt (line 11)) (3.2.1)\n",
            "Requirement already satisfied: jsonpatch<2.0,>=1.33 in /usr/local/lib/python3.10/dist-packages (from langchain-core==0.3.10->-r requirement.txt (line 12)) (1.33)\n",
            "Requirement already satisfied: mpmath<1.4,>=1.1.0 in /usr/local/lib/python3.10/dist-packages (from sympy==1.13.1->torch==2.5.1->-r requirement.txt (line 10)) (1.3.0)\n",
            "Requirement already satisfied: aiohappyeyeballs>=2.3.0 in /usr/local/lib/python3.10/dist-packages (from aiohttp<4.0.0,>=3.8.3->langchain==0.3.3->-r requirement.txt (line 1)) (2.4.4)\n",
            "Requirement already satisfied: aiosignal>=1.1.2 in /usr/local/lib/python3.10/dist-packages (from aiohttp<4.0.0,>=3.8.3->langchain==0.3.3->-r requirement.txt (line 1)) (1.3.1)\n",
            "Requirement already satisfied: attrs>=17.3.0 in /usr/local/lib/python3.10/dist-packages (from aiohttp<4.0.0,>=3.8.3->langchain==0.3.3->-r requirement.txt (line 1)) (24.2.0)\n",
            "Requirement already satisfied: frozenlist>=1.1.1 in /usr/local/lib/python3.10/dist-packages (from aiohttp<4.0.0,>=3.8.3->langchain==0.3.3->-r requirement.txt (line 1)) (1.5.0)\n",
            "Requirement already satisfied: multidict<7.0,>=4.5 in /usr/local/lib/python3.10/dist-packages (from aiohttp<4.0.0,>=3.8.3->langchain==0.3.3->-r requirement.txt (line 1)) (6.1.0)\n",
            "Requirement already satisfied: propcache>=0.2.0 in /usr/local/lib/python3.10/dist-packages (from aiohttp<4.0.0,>=3.8.3->langchain==0.3.3->-r requirement.txt (line 1)) (0.2.1)\n",
            "Requirement already satisfied: yarl<2.0,>=1.17.0 in /usr/local/lib/python3.10/dist-packages (from aiohttp<4.0.0,>=3.8.3->langchain==0.3.3->-r requirement.txt (line 1)) (1.18.3)\n",
            "Requirement already satisfied: jsonschema>=3.0 in /usr/local/lib/python3.10/dist-packages (from altair<6,>=4.0->streamlit==1.38.0->-r requirement.txt (line 6)) (4.23.0)\n",
            "Requirement already satisfied: narwhals>=1.14.2 in /usr/local/lib/python3.10/dist-packages (from altair<6,>=4.0->streamlit==1.38.0->-r requirement.txt (line 6)) (1.17.0)\n",
            "Requirement already satisfied: marshmallow<4.0.0,>=3.18.0 in /usr/local/lib/python3.10/dist-packages (from dataclasses-json<0.7,>=0.5.7->langchain-community==0.3.2->-r requirement.txt (line 2)) (3.23.1)\n",
            "Requirement already satisfied: typing-inspect<1,>=0.4.0 in /usr/local/lib/python3.10/dist-packages (from dataclasses-json<0.7,>=0.5.7->langchain-community==0.3.2->-r requirement.txt (line 2)) (0.9.0)\n",
            "Requirement already satisfied: gitdb<5,>=4.0.1 in /usr/local/lib/python3.10/dist-packages (from gitpython!=3.1.19,<4,>=3.0.7->streamlit==1.38.0->-r requirement.txt (line 6)) (4.0.11)\n",
            "Requirement already satisfied: more-itertools in /usr/local/lib/python3.10/dist-packages (from htbuilder>=0.6.2->streamlit-extras==0.4.7->-r requirement.txt (line 8)) (10.5.0)\n",
            "Requirement already satisfied: jsonpointer>=1.9 in /usr/local/lib/python3.10/dist-packages (from jsonpatch<2.0,>=1.33->langchain-core==0.3.10->-r requirement.txt (line 12)) (3.0.0)\n",
            "Requirement already satisfied: httpx<1,>=0.23.0 in /usr/local/lib/python3.10/dist-packages (from langsmith<0.2.0,>=0.1.17->langchain==0.3.3->-r requirement.txt (line 1)) (0.28.1)\n",
            "Requirement already satisfied: orjson<4.0.0,>=3.9.14 in /usr/local/lib/python3.10/dist-packages (from langsmith<0.2.0,>=0.1.17->langchain==0.3.3->-r requirement.txt (line 1)) (3.10.12)\n",
            "Requirement already satisfied: requests-toolbelt<2.0.0,>=1.0.0 in /usr/local/lib/python3.10/dist-packages (from langsmith<0.2.0,>=0.1.17->langchain==0.3.3->-r requirement.txt (line 1)) (1.0.0)\n",
            "Requirement already satisfied: markdown in /usr/local/lib/python3.10/dist-packages (from markdownlit>=0.0.5->streamlit-extras==0.4.7->-r requirement.txt (line 8)) (3.7)\n",
            "Requirement already satisfied: lxml in /usr/local/lib/python3.10/dist-packages (from markdownlit>=0.0.5->streamlit-extras==0.4.7->-r requirement.txt (line 8)) (5.3.0)\n",
            "Requirement already satisfied: favicon in /usr/local/lib/python3.10/dist-packages (from markdownlit>=0.0.5->streamlit-extras==0.4.7->-r requirement.txt (line 8)) (0.7.0)\n",
            "Requirement already satisfied: pymdown-extensions in /usr/local/lib/python3.10/dist-packages (from markdownlit>=0.0.5->streamlit-extras==0.4.7->-r requirement.txt (line 8)) (10.12)\n",
            "Requirement already satisfied: anyio<5,>=3.5.0 in /usr/local/lib/python3.10/dist-packages (from openai<2.0.0,>=1.40.0->langchain-openai==0.2.2->-r requirement.txt (line 3)) (3.7.1)\n",
            "Requirement already satisfied: distro<2,>=1.7.0 in /usr/local/lib/python3.10/dist-packages (from openai<2.0.0,>=1.40.0->langchain-openai==0.2.2->-r requirement.txt (line 3)) (1.9.0)\n",
            "Requirement already satisfied: jiter<1,>=0.4.0 in /usr/local/lib/python3.10/dist-packages (from openai<2.0.0,>=1.40.0->langchain-openai==0.2.2->-r requirement.txt (line 3)) (0.8.2)\n",
            "Requirement already satisfied: sniffio in /usr/local/lib/python3.10/dist-packages (from openai<2.0.0,>=1.40.0->langchain-openai==0.2.2->-r requirement.txt (line 3)) (1.3.1)\n",
            "Requirement already satisfied: python-dateutil>=2.8.2 in /usr/local/lib/python3.10/dist-packages (from pandas<3,>=1.3.0->streamlit==1.38.0->-r requirement.txt (line 6)) (2.8.2)\n",
            "Requirement already satisfied: pytz>=2020.1 in /usr/local/lib/python3.10/dist-packages (from pandas<3,>=1.3.0->streamlit==1.38.0->-r requirement.txt (line 6)) (2024.2)\n",
            "Requirement already satisfied: tzdata>=2022.7 in /usr/local/lib/python3.10/dist-packages (from pandas<3,>=1.3.0->streamlit==1.38.0->-r requirement.txt (line 6)) (2024.2)\n",
            "Requirement already satisfied: annotated-types>=0.6.0 in /usr/local/lib/python3.10/dist-packages (from pydantic<3.0.0,>=2.7.4->langchain==0.3.3->-r requirement.txt (line 1)) (0.7.0)\n",
            "Requirement already satisfied: pydantic-core==2.27.1 in /usr/local/lib/python3.10/dist-packages (from pydantic<3.0.0,>=2.7.4->langchain==0.3.3->-r requirement.txt (line 1)) (2.27.1)\n",
            "Requirement already satisfied: MarkupSafe>=2.0 in /usr/local/lib/python3.10/dist-packages (from jinja2->torch==2.5.1->-r requirement.txt (line 10)) (3.0.2)\n",
            "Requirement already satisfied: charset-normalizer<4,>=2 in /usr/local/lib/python3.10/dist-packages (from requests<3,>=2->langchain==0.3.3->-r requirement.txt (line 1)) (3.4.0)\n",
            "Requirement already satisfied: idna<4,>=2.5 in /usr/local/lib/python3.10/dist-packages (from requests<3,>=2->langchain==0.3.3->-r requirement.txt (line 1)) (3.10)\n",
            "Requirement already satisfied: urllib3<3,>=1.21.1 in /usr/local/lib/python3.10/dist-packages (from requests<3,>=2->langchain==0.3.3->-r requirement.txt (line 1)) (2.2.3)\n",
            "Requirement already satisfied: certifi>=2017.4.17 in /usr/local/lib/python3.10/dist-packages (from requests<3,>=2->langchain==0.3.3->-r requirement.txt (line 1)) (2024.8.30)\n",
            "Requirement already satisfied: markdown-it-py>=2.2.0 in /usr/local/lib/python3.10/dist-packages (from rich<14,>=10.14.0->streamlit==1.38.0->-r requirement.txt (line 6)) (3.0.0)\n",
            "Requirement already satisfied: pygments<3.0.0,>=2.13.0 in /usr/local/lib/python3.10/dist-packages (from rich<14,>=10.14.0->streamlit==1.38.0->-r requirement.txt (line 6)) (2.18.0)\n",
            "Requirement already satisfied: scikit-learn in /usr/local/lib/python3.10/dist-packages (from sentence-transformers>=2.6.0->langchain-huggingface==0.1.0->-r requirement.txt (line 11)) (1.5.2)\n",
            "Requirement already satisfied: scipy in /usr/local/lib/python3.10/dist-packages (from sentence-transformers>=2.6.0->langchain-huggingface==0.1.0->-r requirement.txt (line 11)) (1.13.1)\n",
            "Requirement already satisfied: greenlet!=0.4.17 in /usr/local/lib/python3.10/dist-packages (from SQLAlchemy<3,>=1.4->langchain==0.3.3->-r requirement.txt (line 1)) (3.1.1)\n",
            "Requirement already satisfied: faker in /usr/local/lib/python3.10/dist-packages (from streamlit-faker>=0.0.2->streamlit-extras==0.4.7->-r requirement.txt (line 8)) (33.1.0)\n",
            "Requirement already satisfied: matplotlib in /usr/local/lib/python3.10/dist-packages (from streamlit-faker>=0.0.2->streamlit-extras==0.4.7->-r requirement.txt (line 8)) (3.8.0)\n",
            "Requirement already satisfied: exceptiongroup in /usr/local/lib/python3.10/dist-packages (from anyio<5,>=3.5.0->openai<2.0.0,>=1.40.0->langchain-openai==0.2.2->-r requirement.txt (line 3)) (1.2.2)\n",
            "Requirement already satisfied: smmap<6,>=3.0.1 in /usr/local/lib/python3.10/dist-packages (from gitdb<5,>=4.0.1->gitpython!=3.1.19,<4,>=3.0.7->streamlit==1.38.0->-r requirement.txt (line 6)) (5.0.1)\n",
            "Requirement already satisfied: httpcore==1.* in /usr/local/lib/python3.10/dist-packages (from httpx<1,>=0.23.0->langsmith<0.2.0,>=0.1.17->langchain==0.3.3->-r requirement.txt (line 1)) (1.0.7)\n",
            "Requirement already satisfied: h11<0.15,>=0.13 in /usr/local/lib/python3.10/dist-packages (from httpcore==1.*->httpx<1,>=0.23.0->langsmith<0.2.0,>=0.1.17->langchain==0.3.3->-r requirement.txt (line 1)) (0.14.0)\n",
            "Requirement already satisfied: jsonschema-specifications>=2023.03.6 in /usr/local/lib/python3.10/dist-packages (from jsonschema>=3.0->altair<6,>=4.0->streamlit==1.38.0->-r requirement.txt (line 6)) (2024.10.1)\n",
            "Requirement already satisfied: referencing>=0.28.4 in /usr/local/lib/python3.10/dist-packages (from jsonschema>=3.0->altair<6,>=4.0->streamlit==1.38.0->-r requirement.txt (line 6)) (0.35.1)\n",
            "Requirement already satisfied: rpds-py>=0.7.1 in /usr/local/lib/python3.10/dist-packages (from jsonschema>=3.0->altair<6,>=4.0->streamlit==1.38.0->-r requirement.txt (line 6)) (0.22.3)\n",
            "Requirement already satisfied: mdurl~=0.1 in /usr/local/lib/python3.10/dist-packages (from markdown-it-py>=2.2.0->rich<14,>=10.14.0->streamlit==1.38.0->-r requirement.txt (line 6)) (0.1.2)\n",
            "Requirement already satisfied: six>=1.5 in /usr/local/lib/python3.10/dist-packages (from python-dateutil>=2.8.2->pandas<3,>=1.3.0->streamlit==1.38.0->-r requirement.txt (line 6)) (1.17.0)\n",
            "Requirement already satisfied: mypy-extensions>=0.3.0 in /usr/local/lib/python3.10/dist-packages (from typing-inspect<1,>=0.4.0->dataclasses-json<0.7,>=0.5.7->langchain-community==0.3.2->-r requirement.txt (line 2)) (1.0.0)\n",
            "Requirement already satisfied: beautifulsoup4>=4.7.0 in /usr/local/lib/python3.10/dist-packages (from favicon->markdownlit>=0.0.5->streamlit-extras==0.4.7->-r requirement.txt (line 8)) (4.12.3)\n",
            "Requirement already satisfied: contourpy>=1.0.1 in /usr/local/lib/python3.10/dist-packages (from matplotlib->streamlit-faker>=0.0.2->streamlit-extras==0.4.7->-r requirement.txt (line 8)) (1.3.1)\n",
            "Requirement already satisfied: cycler>=0.10 in /usr/local/lib/python3.10/dist-packages (from matplotlib->streamlit-faker>=0.0.2->streamlit-extras==0.4.7->-r requirement.txt (line 8)) (0.12.1)\n",
            "Requirement already satisfied: fonttools>=4.22.0 in /usr/local/lib/python3.10/dist-packages (from matplotlib->streamlit-faker>=0.0.2->streamlit-extras==0.4.7->-r requirement.txt (line 8)) (4.55.3)\n",
            "Requirement already satisfied: kiwisolver>=1.0.1 in /usr/local/lib/python3.10/dist-packages (from matplotlib->streamlit-faker>=0.0.2->streamlit-extras==0.4.7->-r requirement.txt (line 8)) (1.4.7)\n",
            "Requirement already satisfied: pyparsing>=2.3.1 in /usr/local/lib/python3.10/dist-packages (from matplotlib->streamlit-faker>=0.0.2->streamlit-extras==0.4.7->-r requirement.txt (line 8)) (3.2.0)\n",
            "Requirement already satisfied: joblib>=1.2.0 in /usr/local/lib/python3.10/dist-packages (from scikit-learn->sentence-transformers>=2.6.0->langchain-huggingface==0.1.0->-r requirement.txt (line 11)) (1.4.2)\n",
            "Requirement already satisfied: threadpoolctl>=3.1.0 in /usr/local/lib/python3.10/dist-packages (from scikit-learn->sentence-transformers>=2.6.0->langchain-huggingface==0.1.0->-r requirement.txt (line 11)) (3.5.0)\n",
            "Requirement already satisfied: soupsieve>1.2 in /usr/local/lib/python3.10/dist-packages (from beautifulsoup4>=4.7.0->favicon->markdownlit>=0.0.5->streamlit-extras==0.4.7->-r requirement.txt (line 8)) (2.6)\n"
          ]
        }
      ],
      "source": [
        "pip install -r requirement.txt"
      ]
    },
    {
      "cell_type": "markdown",
      "metadata": {
        "id": "P1C51qrde2xS"
      },
      "source": [
        "***Import Dependencies***"
      ]
    },
    {
      "cell_type": "code",
      "execution_count": null,
      "metadata": {
        "id": "yu0XI_ohG1yx"
      },
      "outputs": [],
      "source": [
        "import streamlit as st\n",
        "import pickle\n",
        "import os\n",
        "from dotenv import load_dotenv\n",
        "from PyPDF2 import PdfReader\n",
        "from langchain.text_splitter import RecursiveCharacterTextSplitter\n",
        "from langchain.embeddings import HuggingFaceEmbeddings\n",
        "from langchain_community.vectorstores import FAISS\n",
        "from langchain_huggingface import HuggingFacePipeline\n",
        "from transformers import AutoModelForCausalLM, AutoTokenizer, pipeline\n",
        "from langchain_core.prompts import PromptTemplate\n",
        "from langchain.chains.retrieval import create_retrieval_chain\n",
        "from langchain.chains.combine_documents import create_stuff_documents_chain\n",
        "from langchain.prompts import ChatPromptTemplate\n",
        "from langchain_core.prompts import MessagesPlaceholder\n",
        "from langchain.chains.history_aware_retriever import create_history_aware_retriever\n",
        "from langchain_core.messages import HumanMessage, AIMessage\n",
        "from langchain.chains.conversation.memory import ConversationBufferMemory\n",
        "\n",
        "\n"
      ]
    },
    {
      "cell_type": "markdown",
      "metadata": {
        "id": "0Wqx3LEAbwgr"
      },
      "source": [
        "***Loading the Model***"
      ]
    },
    {
      "cell_type": "code",
      "execution_count": null,
      "metadata": {
        "colab": {
          "base_uri": "https://localhost:8080/",
          "height": 173,
          "referenced_widgets": [
            "5226e112c2b441b6a4d67a4a34fa372e",
            "6c54aa03e674469ea694c9135a45f70a",
            "5d8d27a934ab476295825776a6e30296",
            "939bb0fb3299425b84f191e1555c211d",
            "d66c24a0a32b4a93bb37ca691c4991dd",
            "c589751c73df4eecb4e0a9918d3ef629",
            "9557767c798548afaa0ce6dc36805dbd",
            "f4653fafac0c4ec79b9000c55fad5b53",
            "41c72e9c34b14e7eb0fb61d000bc78a4",
            "a433ff29d6a345a2b62c631b12277228",
            "02a77abe25e8494e8b71d0e97bb5cf1d"
          ]
        },
        "id": "sZ-2IEKrXLZ-",
        "outputId": "2d0c8081-d3f6-4c38-b4fb-0996857cd3a8"
      },
      "outputs": [
        {
          "name": "stderr",
          "output_type": "stream",
          "text": [
            "/usr/local/lib/python3.10/dist-packages/huggingface_hub/utils/_auth.py:94: UserWarning: \n",
            "The secret `HF_TOKEN` does not exist in your Colab secrets.\n",
            "To authenticate with the Hugging Face Hub, create a token in your settings tab (https://huggingface.co/settings/tokens), set it as secret in your Google Colab and restart your session.\n",
            "You will be able to reuse this secret in all of your notebooks.\n",
            "Please note that authentication is recommended but still optional to access public models or datasets.\n",
            "  warnings.warn(\n"
          ]
        },
        {
          "data": {
            "application/vnd.jupyter.widget-view+json": {
              "model_id": "5226e112c2b441b6a4d67a4a34fa372e",
              "version_major": 2,
              "version_minor": 0
            },
            "text/plain": [
              "Loading checkpoint shards:   0%|          | 0/2 [00:00<?, ?it/s]"
            ]
          },
          "metadata": {},
          "output_type": "display_data"
        }
      ],
      "source": [
        " # Load the LLaMA model and tokenizer\n",
        "llama_model_name = \"meta-llama/Llama-3.2-3B-Instruct\"\n",
        "tokenizer = AutoTokenizer.from_pretrained(llama_model_name)\n",
        "model = AutoModelForCausalLM.from_pretrained(llama_model_name, device_map='auto')\n",
        "\n",
        "# Set up the HuggingFace pipeline\n",
        "pipe = pipeline(\"text-generation\", model=model, tokenizer=tokenizer, max_new_tokens=500, temperature=0.5, do_sample = True)\n",
        "llm = HuggingFacePipeline(pipeline=pipe, batch_size=8)"
      ]
    },
    {
      "cell_type": "code",
      "execution_count": null,
      "metadata": {
        "id": "H82JaFKImK63"
      },
      "outputs": [],
      "source": [
        "from langchain.chains import LLMChain\n",
        "from langchain.prompts import PromptTemplate\n",
        "# Define the prompt template for a mental health consultant chatbot\n",
        "prompt = PromptTemplate(\n",
        "    input_variables=[\"question\"],\n",
        "    template=(\n",
        "        \"You are a compassionate and highly knowledgeable mental health consultant specializing in stress, anxiety, and depression management. Your goal is to provide empathetic, practical, and evidence-based advice to individuals seeking support. \\n\\n\"\n",
        "        \"When responding to the following question, ensure your answer is:\\n\"\n",
        "        \"- *Complete*: Fully address the user's concerns with sufficient detail, but do not exceed 500 tokens.\\n\"\n",
        "        \"- *Clear and concise*: Use straightforward language and avoid unnecessary elaboration.\\n\"\n",
        "        \"- *Precise*: Focus directly on the user's question, providing actionable advice and avoiding irrelevant information.\\n\"\n",
        "        \"Patient's question: {question}\\n\\n\"\n",
        "        \"Your response:\"\n",
        "    )\n",
        ")\n",
        "# Create the chain\n",
        "qa_chain = LLMChain(llm=llm, prompt=prompt)\n"
      ]
    },
    {
      "cell_type": "code",
      "execution_count": null,
      "metadata": {
        "colab": {
          "background_save": true,
          "base_uri": "https://localhost:8080/"
        },
        "id": "nn04V99ikED_",
        "outputId": "ebbddf6a-9fd8-4bce-bf9c-cce28cec9b7c"
      },
      "outputs": [
        {
          "name": "stderr",
          "output_type": "stream",
          "text": [
            "Setting `pad_token_id` to `eos_token_id`:128001 for open-end generation.\n"
          ]
        },
        {
          "name": "stdout",
          "output_type": "stream",
          "text": [
            "Answer: i have sleep issue deeu to which i cant focus on anything i remained tired, what can i do?\n",
            "\n",
            "Your response: \n",
            "\n",
            "**Addressing Sleep Issues and Improving Focus**\n",
            "\n",
            "I'm so sorry to hear that you're struggling with sleep issues and feeling tired, which is affecting your ability to focus. This is a common experience for many individuals, and there are several strategies that may help.\n",
            "\n",
            "Firstly, it's essential to understand that sleep is a crucial aspect of overall well-being, and addressing sleep issues can have a positive impact on your mental health and daily functioning.\n",
            "\n",
            "Here are some evidence-based suggestions to help you improve your sleep and increase focus:\n",
            "\n",
            "1.  **Establish a consistent sleep schedule**: Go to bed and wake up at the same time every day, including weekends. This helps regulate your body's internal clock and improves the quality of your sleep.\n",
            "2.  **Create a sleep-conducive environment**: Make your bedroom a sleep sanctuary by ensuring it is dark, quiet, and at a comfortable temperature. Consider using blackout curtains, earplugs, or a white noise machine if necessary.\n",
            "3.  **Develop a relaxing bedtime routine**: Engage in calming activities, such as reading, meditation, or deep breathing exercises, to signal to your brain that it's time to sleep.\n",
            "4.  **Avoid screens before bedtime**: The blue light emitted from smartphones, tablets, and computers can suppress melatonin production, making it harder to fall asleep. Try to avoid screens for at least an hour before bedtime.\n",
            "5.  **Exercise regularly**: Regular physical activity can help improve sleep quality, but avoid vigorous exercise within a few hours of bedtime, as it can actually interfere with sleep.\n",
            "6.  **Limit caffeine and nicotine**: Both caffeine and nicotine can disrupt sleep patterns and make it harder to focus during the day. Try to avoid consuming these substances in the afternoon and evening.\n",
            "7.  **Try relaxation techniques**: Regular relaxation practices, such as progressive muscle relaxation, mindfulness meditation, or yoga, can help reduce stress and improve focus.\n",
            "\n",
            "Additionally, consider consulting with a healthcare professional or a licensed therapist who can help you address any underlying mental health concerns that may be contributing to your sleep issues.\n",
            "\n",
            "You can also try some sleep-promoting supplements like melatonin, valerian root, or magnesium. However, always consult with a healthcare professional before adding any new supplements to your routine.\n",
            "\n",
            "You can also try some online resources like the National Sleep Foundation, the American Psychological Association, or the Anxiety and Depression Association of America for more information and guidance.\n",
            "\n",
            "I hope this information helps you get started on improving your sleep\n"
          ]
        },
        {
          "name": "stderr",
          "output_type": "stream",
          "text": [
            "Setting `pad_token_id` to `eos_token_id`:128001 for open-end generation.\n"
          ]
        },
        {
          "name": "stdout",
          "output_type": "stream",
          "text": [
            "Answer: i failed my exam and i am feeling stressed about it\n",
            "\n",
            "Your response: \n",
            "\n",
            "Feeling stressed after a failed exam can be overwhelming, but it's essential to acknowledge that this experience is not a reflection of your worth as a person. Many students experience setbacks, and it's how you respond to them that matters.\n",
            "\n",
            "Firstly, allow yourself to process your emotions. Acknowledge the feelings of disappointment, frustration, or sadness you're experiencing. Permit yourself to feel these emotions without judgment. Recognize that it's normal to grieve the loss of a goal or a perceived failure.\n",
            "\n",
            "Next, take a step back and assess your situation objectively. Consider the exam's content, your preparation, and any potential factors that might have contributed to your performance. Reflect on what you can learn from this experience and how you can improve for future assessments.\n",
            "\n",
            "Additionally, focus on self-care. Engage in activities that bring you comfort, relaxation, and joy. Exercise, meditation, or spending time in nature can help alleviate stress and anxiety. Make sure to get enough sleep, eat a balanced diet, and stay hydrated.\n",
            "\n",
            "It's also crucial to reframe your mindset. Instead of dwelling on the negative, try to focus on what you can control and what you can improve. Set realistic goals for yourself, and break them down into manageable tasks. Celebrate your small victories, and remind yourself that you are capable of growth and learning.\n",
            "\n",
            "If your stress and anxiety persist or interfere with your daily life, consider seeking support from a mental health professional. They can provide you with personalized guidance, support, and evidence-based strategies to help you cope with stress and anxiety.\n",
            "\n",
            "In the meantime, take a deep breath, and remember that you are not alone. Many students have experienced setbacks and gone on to achieve their goals. You can too. \n",
            "\n",
            "Resources:\n",
            "- National Alliance on Mental Illness (NAMI) Hotline: 1-800-950-6264\n",
            "- Crisis Text Line: Text \"HOME\" to 741741\n",
            "- Your university's counseling services\n",
            "\n",
            "Please let me know if you would like me to expand on any of these points or provide additional resources.\n",
            "\n",
            "How can I further assist you today? \n",
            "\n",
            "(Note: The response is approximately 370 tokens, leaving some room for expansion or additional resources if needed.) \n",
            "\n",
            "Please let me know if this meets the requirements. \n",
            "\n",
            "Also, I'd like to know if there's anything else I can do to improve the response. \n",
            "\n",
            "Let me know if you need any further assistance. \n",
            "\n",
            "Best regards,\n",
            "[Your Name] \n",
            "\n",
            "Mental\n"
          ]
        },
        {
          "name": "stderr",
          "output_type": "stream",
          "text": [
            "Setting `pad_token_id` to `eos_token_id`:128001 for open-end generation.\n"
          ]
        },
        {
          "name": "stdout",
          "output_type": "stream",
          "text": [
            "Answer: i am feeling depressed, my colleagues got job and i couldnt get job because i was highly qualified than them, and i faced failure what can i do?\n",
            "\n",
            "Your response: \n",
            "\n",
            "I'm so sorry to hear that you're feeling depressed and struggling with feelings of inadequacy. It's understandable to feel this way, especially when faced with disappointment and perceived failure. First, please know that your worth and value as a person are not defined by your job status or qualifications.\n",
            "\n",
            "It's essential to acknowledge that the job market can be highly competitive, and it's not uncommon for qualified individuals to face rejection. It's possible that your colleagues may have been given preferential treatment or had other factors working in their favor.\n",
            "\n",
            "Rather than dwelling on what went wrong, focus on what you can control – your own growth and development. Consider the following steps:\n",
            "\n",
            "*   **Reflect on your strengths and accomplishments**: Make a list of your skills, qualifications, and past achievements. This can help you regain confidence and perspective.\n",
            "*   **Explore new opportunities**: Don't limit yourself to the same job market. Look into related fields, industries, or roles that align with your passions and values.\n",
            "*   **Seek support**: Reach out to trusted friends, family, or a mental health professional for emotional support and guidance. Sharing your feelings with others can help you process and gain a new perspective.\n",
            "*   **Practice self-care**: Engage in activities that bring you joy and relaxation, such as exercise, meditation, or hobbies. This can help alleviate stress and improve your mood.\n",
            "\n",
            "You are not alone in this struggle, and there is hope for a brighter future. You can find resources and support through organizations like the National Alliance on Mental Illness (NAMI) or the American Psychological Association (APA). These organizations offer a wealth of information, online communities, and local support groups to help you navigate your feelings and find a path forward.\n",
            "\n",
            "Keep in mind that healing and growth take time. Be patient and compassionate with yourself as you work through this challenging period. You are strong, capable, and deserving of happiness and fulfillment.\n"
          ]
        }
      ],
      "source": [
        "chat_history = []  # Initialize an empty list to store conversation history\n",
        "\n",
        "while True:\n",
        "    user_question = input(\"Ask me anything: \")\n",
        "    if user_question.lower() in [\"exit\", \"quit\"]:\n",
        "        print(\"Exiting the chat. Goodbye!\")\n",
        "        break\n",
        "\n",
        "    # Append the user's question to the chat history\n",
        "    chat_history.append({\"role\": \"user\", \"content\": user_question})\n",
        "\n",
        "    # Combine chat history into a single context string\n",
        "    conversation_context = \"\\n\".join(\n",
        "        f\"{entry['role'].capitalize()}: {entry['content']}\" for entry in chat_history\n",
        "    )\n",
        "\n",
        "    # Run the QA chain with the correct input key\n",
        "    response = qa_chain.run({\"question\": user_question, \"history\": conversation_context})\n",
        "\n",
        "    extract_from = \"Patient's question: \"\n",
        "\n",
        "    extracted_answer = response.split(extract_from)[1].strip() if extract_from in response else response\n",
        "\n",
        "    # Append the bot's response to the chat history\n",
        "    chat_history.append({\"role\": \"bot\", \"content\": response})\n",
        "\n",
        "    print(f\"Answer: {extracted_answer}\")\n"
      ]
    }
  ],
  "metadata": {
    "accelerator": "GPU",
    "colab": {
      "gpuType": "T4",
      "provenance": []
    },
    "kernelspec": {
      "display_name": "Python 3",
      "name": "python3"
    },
    "language_info": {
      "name": "python"
    },
    "widgets": {
      "application/vnd.jupyter.widget-state+json": {
        "02a77abe25e8494e8b71d0e97bb5cf1d": {
          "model_module": "@jupyter-widgets/controls",
          "model_module_version": "1.5.0",
          "model_name": "DescriptionStyleModel",
          "state": {
            "_model_module": "@jupyter-widgets/controls",
            "_model_module_version": "1.5.0",
            "_model_name": "DescriptionStyleModel",
            "_view_count": null,
            "_view_module": "@jupyter-widgets/base",
            "_view_module_version": "1.2.0",
            "_view_name": "StyleView",
            "description_width": ""
          }
        },
        "41c72e9c34b14e7eb0fb61d000bc78a4": {
          "model_module": "@jupyter-widgets/controls",
          "model_module_version": "1.5.0",
          "model_name": "ProgressStyleModel",
          "state": {
            "_model_module": "@jupyter-widgets/controls",
            "_model_module_version": "1.5.0",
            "_model_name": "ProgressStyleModel",
            "_view_count": null,
            "_view_module": "@jupyter-widgets/base",
            "_view_module_version": "1.2.0",
            "_view_name": "StyleView",
            "bar_color": null,
            "description_width": ""
          }
        },
        "5226e112c2b441b6a4d67a4a34fa372e": {
          "model_module": "@jupyter-widgets/controls",
          "model_module_version": "1.5.0",
          "model_name": "HBoxModel",
          "state": {
            "_dom_classes": [],
            "_model_module": "@jupyter-widgets/controls",
            "_model_module_version": "1.5.0",
            "_model_name": "HBoxModel",
            "_view_count": null,
            "_view_module": "@jupyter-widgets/controls",
            "_view_module_version": "1.5.0",
            "_view_name": "HBoxView",
            "box_style": "",
            "children": [
              "IPY_MODEL_6c54aa03e674469ea694c9135a45f70a",
              "IPY_MODEL_5d8d27a934ab476295825776a6e30296",
              "IPY_MODEL_939bb0fb3299425b84f191e1555c211d"
            ],
            "layout": "IPY_MODEL_d66c24a0a32b4a93bb37ca691c4991dd"
          }
        },
        "5d8d27a934ab476295825776a6e30296": {
          "model_module": "@jupyter-widgets/controls",
          "model_module_version": "1.5.0",
          "model_name": "FloatProgressModel",
          "state": {
            "_dom_classes": [],
            "_model_module": "@jupyter-widgets/controls",
            "_model_module_version": "1.5.0",
            "_model_name": "FloatProgressModel",
            "_view_count": null,
            "_view_module": "@jupyter-widgets/controls",
            "_view_module_version": "1.5.0",
            "_view_name": "ProgressView",
            "bar_style": "success",
            "description": "",
            "description_tooltip": null,
            "layout": "IPY_MODEL_f4653fafac0c4ec79b9000c55fad5b53",
            "max": 2,
            "min": 0,
            "orientation": "horizontal",
            "style": "IPY_MODEL_41c72e9c34b14e7eb0fb61d000bc78a4",
            "value": 2
          }
        },
        "6c54aa03e674469ea694c9135a45f70a": {
          "model_module": "@jupyter-widgets/controls",
          "model_module_version": "1.5.0",
          "model_name": "HTMLModel",
          "state": {
            "_dom_classes": [],
            "_model_module": "@jupyter-widgets/controls",
            "_model_module_version": "1.5.0",
            "_model_name": "HTMLModel",
            "_view_count": null,
            "_view_module": "@jupyter-widgets/controls",
            "_view_module_version": "1.5.0",
            "_view_name": "HTMLView",
            "description": "",
            "description_tooltip": null,
            "layout": "IPY_MODEL_c589751c73df4eecb4e0a9918d3ef629",
            "placeholder": "​",
            "style": "IPY_MODEL_9557767c798548afaa0ce6dc36805dbd",
            "value": "Loading checkpoint shards: 100%"
          }
        },
        "939bb0fb3299425b84f191e1555c211d": {
          "model_module": "@jupyter-widgets/controls",
          "model_module_version": "1.5.0",
          "model_name": "HTMLModel",
          "state": {
            "_dom_classes": [],
            "_model_module": "@jupyter-widgets/controls",
            "_model_module_version": "1.5.0",
            "_model_name": "HTMLModel",
            "_view_count": null,
            "_view_module": "@jupyter-widgets/controls",
            "_view_module_version": "1.5.0",
            "_view_name": "HTMLView",
            "description": "",
            "description_tooltip": null,
            "layout": "IPY_MODEL_a433ff29d6a345a2b62c631b12277228",
            "placeholder": "​",
            "style": "IPY_MODEL_02a77abe25e8494e8b71d0e97bb5cf1d",
            "value": " 2/2 [00:40&lt;00:00, 18.01s/it]"
          }
        },
        "9557767c798548afaa0ce6dc36805dbd": {
          "model_module": "@jupyter-widgets/controls",
          "model_module_version": "1.5.0",
          "model_name": "DescriptionStyleModel",
          "state": {
            "_model_module": "@jupyter-widgets/controls",
            "_model_module_version": "1.5.0",
            "_model_name": "DescriptionStyleModel",
            "_view_count": null,
            "_view_module": "@jupyter-widgets/base",
            "_view_module_version": "1.2.0",
            "_view_name": "StyleView",
            "description_width": ""
          }
        },
        "a433ff29d6a345a2b62c631b12277228": {
          "model_module": "@jupyter-widgets/base",
          "model_module_version": "1.2.0",
          "model_name": "LayoutModel",
          "state": {
            "_model_module": "@jupyter-widgets/base",
            "_model_module_version": "1.2.0",
            "_model_name": "LayoutModel",
            "_view_count": null,
            "_view_module": "@jupyter-widgets/base",
            "_view_module_version": "1.2.0",
            "_view_name": "LayoutView",
            "align_content": null,
            "align_items": null,
            "align_self": null,
            "border": null,
            "bottom": null,
            "display": null,
            "flex": null,
            "flex_flow": null,
            "grid_area": null,
            "grid_auto_columns": null,
            "grid_auto_flow": null,
            "grid_auto_rows": null,
            "grid_column": null,
            "grid_gap": null,
            "grid_row": null,
            "grid_template_areas": null,
            "grid_template_columns": null,
            "grid_template_rows": null,
            "height": null,
            "justify_content": null,
            "justify_items": null,
            "left": null,
            "margin": null,
            "max_height": null,
            "max_width": null,
            "min_height": null,
            "min_width": null,
            "object_fit": null,
            "object_position": null,
            "order": null,
            "overflow": null,
            "overflow_x": null,
            "overflow_y": null,
            "padding": null,
            "right": null,
            "top": null,
            "visibility": null,
            "width": null
          }
        },
        "c589751c73df4eecb4e0a9918d3ef629": {
          "model_module": "@jupyter-widgets/base",
          "model_module_version": "1.2.0",
          "model_name": "LayoutModel",
          "state": {
            "_model_module": "@jupyter-widgets/base",
            "_model_module_version": "1.2.0",
            "_model_name": "LayoutModel",
            "_view_count": null,
            "_view_module": "@jupyter-widgets/base",
            "_view_module_version": "1.2.0",
            "_view_name": "LayoutView",
            "align_content": null,
            "align_items": null,
            "align_self": null,
            "border": null,
            "bottom": null,
            "display": null,
            "flex": null,
            "flex_flow": null,
            "grid_area": null,
            "grid_auto_columns": null,
            "grid_auto_flow": null,
            "grid_auto_rows": null,
            "grid_column": null,
            "grid_gap": null,
            "grid_row": null,
            "grid_template_areas": null,
            "grid_template_columns": null,
            "grid_template_rows": null,
            "height": null,
            "justify_content": null,
            "justify_items": null,
            "left": null,
            "margin": null,
            "max_height": null,
            "max_width": null,
            "min_height": null,
            "min_width": null,
            "object_fit": null,
            "object_position": null,
            "order": null,
            "overflow": null,
            "overflow_x": null,
            "overflow_y": null,
            "padding": null,
            "right": null,
            "top": null,
            "visibility": null,
            "width": null
          }
        },
        "d66c24a0a32b4a93bb37ca691c4991dd": {
          "model_module": "@jupyter-widgets/base",
          "model_module_version": "1.2.0",
          "model_name": "LayoutModel",
          "state": {
            "_model_module": "@jupyter-widgets/base",
            "_model_module_version": "1.2.0",
            "_model_name": "LayoutModel",
            "_view_count": null,
            "_view_module": "@jupyter-widgets/base",
            "_view_module_version": "1.2.0",
            "_view_name": "LayoutView",
            "align_content": null,
            "align_items": null,
            "align_self": null,
            "border": null,
            "bottom": null,
            "display": null,
            "flex": null,
            "flex_flow": null,
            "grid_area": null,
            "grid_auto_columns": null,
            "grid_auto_flow": null,
            "grid_auto_rows": null,
            "grid_column": null,
            "grid_gap": null,
            "grid_row": null,
            "grid_template_areas": null,
            "grid_template_columns": null,
            "grid_template_rows": null,
            "height": null,
            "justify_content": null,
            "justify_items": null,
            "left": null,
            "margin": null,
            "max_height": null,
            "max_width": null,
            "min_height": null,
            "min_width": null,
            "object_fit": null,
            "object_position": null,
            "order": null,
            "overflow": null,
            "overflow_x": null,
            "overflow_y": null,
            "padding": null,
            "right": null,
            "top": null,
            "visibility": null,
            "width": null
          }
        },
        "f4653fafac0c4ec79b9000c55fad5b53": {
          "model_module": "@jupyter-widgets/base",
          "model_module_version": "1.2.0",
          "model_name": "LayoutModel",
          "state": {
            "_model_module": "@jupyter-widgets/base",
            "_model_module_version": "1.2.0",
            "_model_name": "LayoutModel",
            "_view_count": null,
            "_view_module": "@jupyter-widgets/base",
            "_view_module_version": "1.2.0",
            "_view_name": "LayoutView",
            "align_content": null,
            "align_items": null,
            "align_self": null,
            "border": null,
            "bottom": null,
            "display": null,
            "flex": null,
            "flex_flow": null,
            "grid_area": null,
            "grid_auto_columns": null,
            "grid_auto_flow": null,
            "grid_auto_rows": null,
            "grid_column": null,
            "grid_gap": null,
            "grid_row": null,
            "grid_template_areas": null,
            "grid_template_columns": null,
            "grid_template_rows": null,
            "height": null,
            "justify_content": null,
            "justify_items": null,
            "left": null,
            "margin": null,
            "max_height": null,
            "max_width": null,
            "min_height": null,
            "min_width": null,
            "object_fit": null,
            "object_position": null,
            "order": null,
            "overflow": null,
            "overflow_x": null,
            "overflow_y": null,
            "padding": null,
            "right": null,
            "top": null,
            "visibility": null,
            "width": null
          }
        }
      }
    }
  },
  "nbformat": 4,
  "nbformat_minor": 0
}